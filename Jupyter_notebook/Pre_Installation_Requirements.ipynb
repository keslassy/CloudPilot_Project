{
 "cells": [
  {
   "cell_type": "markdown",
   "id": "f9809167",
   "metadata": {},
   "source": [
    "# Pre Installation Requirements"
   ]
  },
  {
   "cell_type": "markdown",
   "id": "62a20a3f",
   "metadata": {},
   "source": [
    "To run k8s cloud environment pre installed the following programs:"
   ]
  },
  {
   "cell_type": "markdown",
   "id": "17c812aa",
   "metadata": {},
   "source": [
    "##  <font color= #00008b> 1. KubeCTL </font>"
   ]
  },
  {
   "cell_type": "markdown",
   "id": "4d78b94b",
   "metadata": {},
   "source": [
    "Install the Kubernetes command-line tool, kubectl, with the following commands: "
   ]
  },
  {
   "cell_type": "code",
   "execution_count": null,
   "id": "40a7e501",
   "metadata": {},
   "outputs": [],
   "source": [
    "! curl -LO \"https://dl.k8s.io/release/$(curl -L -s https://dl.k8s.io/release/stable.txt)/bin/linux/amd64/kubectl\"\n",
    "! sudo install -o root -g root -m 0755 kubectl /usr/local/bin/kubectl\n",
    "! kubectl version --client"
   ]
  },
  {
   "cell_type": "markdown",
   "id": "53c29a67",
   "metadata": {},
   "source": [
    "For more installation information check K8S docs: [Install-kubectl-linux](https://kubernetes.io/docs/tasks/tools/install-kubectl-linux/)"
   ]
  },
  {
   "cell_type": "markdown",
   "id": "5f3f4d77",
   "metadata": {},
   "source": [
    "## <font color= #00008b> 2. Docker </font>"
   ]
  },
  {
   "cell_type": "markdown",
   "id": "77a02a94",
   "metadata": {},
   "source": [
    "Install Docker engine with the following commands:"
   ]
  },
  {
   "cell_type": "code",
   "execution_count": null,
   "id": "c4b80c74",
   "metadata": {},
   "outputs": [],
   "source": [
    "!curl -fsSL https://get.docker.com -o get-docker.sh\n",
    "! sudo sh get-docker.sh"
   ]
  },
  {
   "cell_type": "markdown",
   "id": "f2a38706",
   "metadata": {},
   "source": [
    "For more installation information check Docker docs: [Docker_installation](https://docs.docker.com/engine/install/ubuntu/)"
   ]
  },
  {
   "cell_type": "markdown",
   "id": "5abf71af",
   "metadata": {},
   "source": [
    "## <font color= #00008b> 3. Clouds CLI </font>"
   ]
  },
  {
   "cell_type": "markdown",
   "id": "829f0318",
   "metadata": {},
   "source": [
    "### <font color= #00008b> 3.1 IBMcloud CLI </font>"
   ]
  },
  {
   "cell_type": "markdown",
   "id": "ef44e40a",
   "metadata": {},
   "source": [
    "To use IBM cloud platform please install IBMcloud cli:"
   ]
  },
  {
   "cell_type": "code",
   "execution_count": null,
   "id": "27a4f557",
   "metadata": {},
   "outputs": [],
   "source": [
    "! curl -fsSL https://clis.cloud.ibm.com/install/linux | sh\n"
   ]
  },
  {
   "cell_type": "markdown",
   "id": "6dca3d67",
   "metadata": {},
   "source": [
    "For more installation information check IBMCloud docs: [install-ibmcloud-cli](https://cloud.ibm.com/docs/cli?topic=cli-install-ibmcloud-cli)"
   ]
  },
  {
   "cell_type": "markdown",
   "id": "714cba84",
   "metadata": {},
   "source": [
    "### <font color= #00008b> 3.2 Gcloud CLI </font>"
   ]
  },
  {
   "cell_type": "markdown",
   "id": "87e4245b",
   "metadata": {},
   "source": [
    "To use Google cloud platform please insall gcloud cli with the following commands:"
   ]
  },
  {
   "cell_type": "code",
   "execution_count": null,
   "id": "1f473cff",
   "metadata": {},
   "outputs": [],
   "source": [
    "! echo \"deb [signed-by=/usr/share/keyrings/cloud.google.gpg] https://packages.cloud.google.com/apt cloud-sdk main\" | sudo tee -a /etc/apt/sources.list.d/google-cloud-sdk.list\n",
    "! sudo apt-get install apt-transport-https ca-certificates gnupg\n",
    "! curl https://packages.cloud.google.com/apt/doc/apt-key.gpg | sudo apt-key --keyring /usr/share/keyrings/cloud.google.gpg add -\n",
    "! sudo apt-get update && sudo apt-get install google-cloud-sdk\n",
    "! sudo apt-get install google-cloud-sdk-app-engine-java\n",
    "! gcloud init\n"
   ]
  },
  {
   "cell_type": "markdown",
   "id": "8f26bcb2",
   "metadata": {},
   "source": [
    "For more installation information check Google docs: [gcloud install](https://cloud.google.com/sdk/docs/install#deb)"
   ]
  },
  {
   "cell_type": "markdown",
   "id": "d7407f10",
   "metadata": {},
   "source": [
    "### <font color= #00008b> 3.3 AWS CLI </font>"
   ]
  },
  {
   "cell_type": "markdown",
   "id": "654ff7b1",
   "metadata": {},
   "source": [
    "To use aws cloud platform please insall aws cli with the following commands:"
   ]
  },
  {
   "cell_type": "code",
   "execution_count": null,
   "id": "4b39f7c8",
   "metadata": {},
   "outputs": [],
   "source": [
    "! curl \"https://awscli.amazonaws.com/awscli-exe-linux-x86_64.zip\" -o \"awscliv2.zip\"\n",
    "! unzip awscliv2.zip\n",
    "! sudo ./aws/install"
   ]
  },
  {
   "cell_type": "markdown",
   "id": "27f0c284",
   "metadata": {},
   "source": [
    "For more installation information check AWS docs: [AWS CLI install](https://docs.aws.amazon.com/cli/latest/userguide/install-cliv2-linux.html)"
   ]
  },
  {
   "cell_type": "markdown",
   "id": "ca601751",
   "metadata": {},
   "source": [
    "In eddition install EKSCTL tool for more convient work with K8S in AWS: "
   ]
  }
 ],
 "metadata": {
  "kernelspec": {
   "display_name": "Python 3 (ipykernel)",
   "language": "python",
   "name": "python3"
  },
  "language_info": {
   "codemirror_mode": {
    "name": "ipython",
    "version": 3
   },
   "file_extension": ".py",
   "mimetype": "text/x-python",
   "name": "python",
   "nbconvert_exporter": "python",
   "pygments_lexer": "ipython3",
   "version": "3.8.8"
  }
 },
 "nbformat": 4,
 "nbformat_minor": 5
}
